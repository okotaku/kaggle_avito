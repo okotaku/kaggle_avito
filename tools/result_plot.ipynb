{
 "cells": [
  {
   "cell_type": "code",
   "execution_count": null,
   "metadata": {},
   "outputs": [],
   "source": [
    "import plotly\n",
    "import pandas as pd\n",
    "plotly.offline.init_notebook_mode(connected=False)"
   ]
  },
  {
   "cell_type": "code",
   "execution_count": null,
   "metadata": {},
   "outputs": [],
   "source": [
    "path = \"val.csv\"\n",
    "\n",
    "y = pd.read_csv(\"data/train.csv\", usecols=[\"deal_probability\", \"item_id\"])\n",
    "y = y.rename(columns={\"deal_probability\": \"y\"})\n",
    "\n",
    "df = pd.read_csv(path)\n",
    "df = df.sample(n=1000)\n",
    "df['deal_probability'] = df['deal_probability'].clip(0.0, 1.0) \n",
    "dftest = pd.read_csv(p.replace(\"val/\", \"result/\").replace(\"val.csv\", \".csv\").replace(\".gz\", \"\"))\n",
    "df = df.merge(y, how=\"left\", on=\"item_id\")\n",
    "y_ = df.y.values\n",
    "x = df[\"deal_probability\"].values\n",
    "# make trace\n",
    "data = [\n",
    "    plotly.graph_objs.Scatter(x = x,  y = y_, mode = \"markers\"),\n",
    "    plotly.graph_objs.Scatter(x=[0,1], y=[0,1], name=\"legend2\"),\n",
    "]\n",
    "\n",
    "# define layout\n",
    "layout = plotly.graph_objs.Layout(\n",
    "    title=p.replace(\"val/\", \"\"),\n",
    "    xaxis=dict(title='pred'),\n",
    "    yaxis=dict(title='true'),\n",
    "    showlegend=False)\n",
    "\n",
    "fig = dict(data=data, layout=layout)\n",
    "\n",
    "plotly.offline.iplot(fig, filename=p.replace(\"val/\", \"\"))\n"
   ]
  }
 ],
 "metadata": {
  "kernelspec": {
   "display_name": "Python 3",
   "language": "python",
   "name": "python3"
  },
  "language_info": {
   "codemirror_mode": {
    "name": "ipython",
    "version": 3
   },
   "file_extension": ".py",
   "mimetype": "text/x-python",
   "name": "python",
   "nbconvert_exporter": "python",
   "pygments_lexer": "ipython3",
   "version": "3.6.5"
  }
 },
 "nbformat": 4,
 "nbformat_minor": 2
}
